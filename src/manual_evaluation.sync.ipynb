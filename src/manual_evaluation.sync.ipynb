{
 "cells": [
  {
   "cell_type": "code",
   "execution_count": 2,
   "id": "55c36502",
   "metadata": {
    "pycharm": {
     "name": "#%%\n"
    }
   },
   "outputs": [
    {
     "ename": "TypeError",
     "evalue": "unsupported operand type(s) for +: 'PosixPath' and 'str'",
     "output_type": "error",
     "traceback": [
      "\u001b[0;31m---------------------------------------------------------------------------\u001b[0m",
      "\u001b[0;31mTypeError\u001b[0m                                 Traceback (most recent call last)",
      "Input \u001b[0;32mIn [2]\u001b[0m, in \u001b[0;36m<cell line: 8>\u001b[0;34m()\u001b[0m\n\u001b[1;32m      6\u001b[0m \u001b[38;5;28;01mfrom\u001b[39;00m \u001b[38;5;21;01mcustom_metrics\u001b[39;00m \u001b[38;5;28;01mimport\u001b[39;00m f1_m, precision_m, recall_m\n\u001b[1;32m      7\u001b[0m \u001b[38;5;28;01mfrom\u001b[39;00m \u001b[38;5;21;01mutils\u001b[39;00m \u001b[38;5;28;01mimport\u001b[39;00m get_commands\n\u001b[0;32m----> 8\u001b[0m \u001b[38;5;28;01mfrom\u001b[39;00m \u001b[38;5;21;01mdata\u001b[39;00m \u001b[38;5;28;01mimport\u001b[39;00m preprocess_dataset\n",
      "File \u001b[0;32m~/projects/fontys/minor-ai-for-society/basic_asr/src/data.py:11\u001b[0m, in \u001b[0;36m<module>\u001b[0;34m\u001b[0m\n\u001b[1;32m      8\u001b[0m \u001b[38;5;28;01mfrom\u001b[39;00m \u001b[38;5;21;01mutils\u001b[39;00m \u001b[38;5;28;01mimport\u001b[39;00m get_commands\n\u001b[1;32m     10\u001b[0m Ratios \u001b[38;5;241m=\u001b[39m Iterable[\u001b[38;5;28mtuple\u001b[39m[\u001b[38;5;28mfloat\u001b[39m, \u001b[38;5;28mfloat\u001b[39m, \u001b[38;5;28mfloat\u001b[39m]]\n\u001b[0;32m---> 11\u001b[0m params \u001b[38;5;241m=\u001b[39m yaml\u001b[38;5;241m.\u001b[39msafe_load(\u001b[38;5;28mopen\u001b[39m(\u001b[43mROOT_DIR\u001b[49m\u001b[43m \u001b[49m\u001b[38;5;241;43m+\u001b[39;49m\u001b[43m \u001b[49m\u001b[38;5;124;43m\"\u001b[39;49m\u001b[38;5;124;43m/params.yaml\u001b[39;49m\u001b[38;5;124;43m\"\u001b[39;49m))[\u001b[38;5;124m\"\u001b[39m\u001b[38;5;124mprocess\u001b[39m\u001b[38;5;124m\"\u001b[39m]\n\u001b[1;32m     14\u001b[0m \u001b[38;5;28;01mdef\u001b[39;00m \u001b[38;5;21mdecode_audio\u001b[39m(audio_binary):\n\u001b[1;32m     15\u001b[0m     \u001b[38;5;66;03m# Decode WAV-encoded audio files to `float32` tensors, normalized\u001b[39;00m\n\u001b[1;32m     16\u001b[0m     \u001b[38;5;66;03m# to the [-1.0, 1.0] range. Return `float32` audio and a sample rate.\u001b[39;00m\n\u001b[1;32m     17\u001b[0m     audio, _ \u001b[38;5;241m=\u001b[39m tf\u001b[38;5;241m.\u001b[39maudio\u001b[38;5;241m.\u001b[39mdecode_wav(contents\u001b[38;5;241m=\u001b[39maudio_binary)\n",
      "\u001b[0;31mTypeError\u001b[0m: unsupported operand type(s) for +: 'PosixPath' and 'str'"
     ]
    }
   ],
   "source": [
    "from IPython.display import Audio\n",
    "import matplotlib.pyplot as plt\n",
    "import tensorflow as tf\n",
    "import os\n",
    "\n",
    "from custom_metrics import f1_m, precision_m, recall_m\n",
    "from utils import get_commands\n",
    "from data import preprocess_dataset"
   ]
  },
  {
   "cell_type": "markdown",
   "id": "6265ec79",
   "metadata": {
    "pycharm": {
     "name": "#%% md\n"
    }
   },
   "source": [
    "<h2>Helper methods</h2>\n",
    "\n",
    "Methods to read in audio as tensor to be able make prediction on it."
   ]
  },
  {
   "cell_type": "code",
   "execution_count": null,
   "id": "6f324282",
   "metadata": {
    "pycharm": {
     "name": "#%%\n"
    }
   },
   "outputs": [],
   "source": [
    "AUTOTUNE = tf.data.AUTOTUNE\n",
    "commands = get_commands(\"../data/mini_speech_commands\")"
   ]
  },
  {
   "cell_type": "markdown",
   "id": "34bccb86",
   "metadata": {
    "pycharm": {
     "name": "#%% md\n"
    }
   },
   "source": [
    "<h2>Load model</h2>\n",
    "\n",
    "Load trained model from disk"
   ]
  },
  {
   "cell_type": "code",
   "execution_count": null,
   "id": "3f38db90",
   "metadata": {
    "pycharm": {
     "name": "#%%\n"
    },
    "scrolled": true
   },
   "outputs": [],
   "source": [
    "trained_model = tf.keras.models.load_model('../model',\n",
    "                                           custom_objects={\n",
    "                                               \"f1_m\": f1_m,\n",
    "                                               \"precision_m\": precision_m,\n",
    "                                               \"recall_m\": recall_m\n",
    "                                           })\n",
    "trained_model.summary()"
   ]
  },
  {
   "cell_type": "markdown",
   "id": "a51af531",
   "metadata": {
    "pycharm": {
     "name": "#%% md\n"
    }
   },
   "source": [
    "\n",
    "<h2>Load in self spoken sample and use model make prediction</h2>"
   ]
  },
  {
   "cell_type": "code",
   "execution_count": null,
   "id": "254bb616",
   "metadata": {
    "pycharm": {
     "name": "#%%\n"
    }
   },
   "outputs": [],
   "source": [
    "sample_file = '../custom_data/commands/no/no_Joey.wav'\n",
    "\n",
    "sample_ds = preprocess_dataset([str(sample_file)], commands)\n",
    "\n",
    "for spectrogram, label in sample_ds.batch(1):\n",
    "    prediction = trained_model(spectrogram)\n",
    "    plt.bar(commands, tf.nn.softmax(prediction[0]))\n",
    "    plt.title(f\"Predictions {commands[label]}\")\n",
    "    plt.show()\n",
    "\n",
    "Audio(sample_file, rate=16000)"
   ]
  }
 ],
 "metadata": {
  "kernelspec": {
   "display_name": "Python 3 (ipykernel)",
   "language": "python",
   "name": "python3"
  },
  "language_info": {
   "codemirror_mode": {
    "name": "ipython",
    "version": 3
   },
   "file_extension": ".py",
   "mimetype": "text/x-python",
   "name": "python",
   "nbconvert_exporter": "python",
   "pygments_lexer": "ipython3",
   "version": "3.9.10"
  }
 },
 "nbformat": 4,
 "nbformat_minor": 5
}
