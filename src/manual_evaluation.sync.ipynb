{
 "cells": [
  {
   "cell_type": "code",
   "execution_count": 1,
   "id": "55c36502",
   "metadata": {
    "pycharm": {
     "name": "#%%\n"
    }
   },
   "outputs": [],
   "source": [
    "from IPython.display import Audio\n",
    "import matplotlib.pyplot as plt\n",
    "import tensorflow as tf\n",
    "\n",
    "from custom_metrics import f1_m, precision_m, recall_m\n",
    "from utils import get_commands\n",
    "from data import preprocess_dataset\n",
    "\n",
    "AUTOTUNE = tf.data.AUTOTUNE\n",
    "commands = get_commands(\"../data/mini_speech_commands\")"
   ]
  },
  {
   "cell_type": "markdown",
   "id": "34bccb86",
   "metadata": {
    "pycharm": {
     "name": "#%% md\n"
    }
   },
   "source": [
    "<h2>Load model</h2>\n",
    "\n",
    "Load trained model from disk"
   ]
  },
  {
   "cell_type": "code",
   "execution_count": 2,
   "id": "3f38db90",
   "metadata": {
    "pycharm": {
     "name": "#%%\n"
    },
    "scrolled": true
   },
   "outputs": [
    {
     "name": "stderr",
     "output_type": "stream",
     "text": [
      "2022-05-13 19:38:43.197022: I tensorflow/stream_executor/cuda/cuda_gpu_executor.cc:936] successful NUMA node read from SysFS had negative value (-1), but there must be at least one NUMA node, so returning NUMA node zero\n",
      "2022-05-13 19:38:43.246014: I tensorflow/stream_executor/cuda/cuda_gpu_executor.cc:936] successful NUMA node read from SysFS had negative value (-1), but there must be at least one NUMA node, so returning NUMA node zero\n",
      "2022-05-13 19:38:43.246152: I tensorflow/stream_executor/cuda/cuda_gpu_executor.cc:936] successful NUMA node read from SysFS had negative value (-1), but there must be at least one NUMA node, so returning NUMA node zero\n",
      "2022-05-13 19:38:43.246604: I tensorflow/core/platform/cpu_feature_guard.cc:151] This TensorFlow binary is optimized with oneAPI Deep Neural Network Library (oneDNN) to use the following CPU instructions in performance-critical operations:  AVX2 FMA\n",
      "To enable them in other operations, rebuild TensorFlow with the appropriate compiler flags.\n",
      "2022-05-13 19:38:43.246980: I tensorflow/stream_executor/cuda/cuda_gpu_executor.cc:936] successful NUMA node read from SysFS had negative value (-1), but there must be at least one NUMA node, so returning NUMA node zero\n",
      "2022-05-13 19:38:43.247096: I tensorflow/stream_executor/cuda/cuda_gpu_executor.cc:936] successful NUMA node read from SysFS had negative value (-1), but there must be at least one NUMA node, so returning NUMA node zero\n",
      "2022-05-13 19:38:43.247200: I tensorflow/stream_executor/cuda/cuda_gpu_executor.cc:936] successful NUMA node read from SysFS had negative value (-1), but there must be at least one NUMA node, so returning NUMA node zero\n",
      "2022-05-13 19:38:43.589957: I tensorflow/stream_executor/cuda/cuda_gpu_executor.cc:936] successful NUMA node read from SysFS had negative value (-1), but there must be at least one NUMA node, so returning NUMA node zero\n",
      "2022-05-13 19:38:43.590107: I tensorflow/stream_executor/cuda/cuda_gpu_executor.cc:936] successful NUMA node read from SysFS had negative value (-1), but there must be at least one NUMA node, so returning NUMA node zero\n",
      "2022-05-13 19:38:43.590211: I tensorflow/stream_executor/cuda/cuda_gpu_executor.cc:936] successful NUMA node read from SysFS had negative value (-1), but there must be at least one NUMA node, so returning NUMA node zero\n",
      "2022-05-13 19:38:43.590296: I tensorflow/core/common_runtime/gpu/gpu_device.cc:1525] Created device /job:localhost/replica:0/task:0/device:GPU:0 with 4957 MB memory:  -> device: 0, name: NVIDIA GeForce GTX 1060 6GB, pci bus id: 0000:01:00.0, compute capability: 6.1\n"
     ]
    },
    {
     "name": "stdout",
     "output_type": "stream",
     "text": [
      "Model: \"sequential\"\n",
      "_________________________________________________________________\n",
      " Layer (type)                Output Shape              Param #   \n",
      "=================================================================\n",
      " resizing (Resizing)         (None, 32, 32, 1)         0         \n",
      "                                                                 \n",
      " normalization (Normalizatio  (None, 32, 32, 1)        3         \n",
      " n)                                                              \n",
      "                                                                 \n",
      " conv2d (Conv2D)             (None, 30, 30, 32)        320       \n",
      "                                                                 \n",
      " conv2d_1 (Conv2D)           (None, 28, 28, 64)        18496     \n",
      "                                                                 \n",
      " max_pooling2d (MaxPooling2D  (None, 14, 14, 64)       0         \n",
      " )                                                               \n",
      "                                                                 \n",
      " dropout (Dropout)           (None, 14, 14, 64)        0         \n",
      "                                                                 \n",
      " flatten (Flatten)           (None, 12544)             0         \n",
      "                                                                 \n",
      " dense (Dense)               (None, 128)               1605760   \n",
      "                                                                 \n",
      " dropout_1 (Dropout)         (None, 128)               0         \n",
      "                                                                 \n",
      " dense_1 (Dense)             (None, 8)                 1032      \n",
      "                                                                 \n",
      "=================================================================\n",
      "Total params: 1,625,611\n",
      "Trainable params: 1,625,608\n",
      "Non-trainable params: 3\n",
      "_________________________________________________________________\n"
     ]
    }
   ],
   "source": [
    "trained_model = tf.keras.models.load_model('../model',\n",
    "                                           custom_objects={\n",
    "                                               \"f1_m\": f1_m,\n",
    "                                               \"precision_m\": precision_m,\n",
    "                                               \"recall_m\": recall_m\n",
    "                                           })\n",
    "trained_model.summary()"
   ]
  },
  {
   "cell_type": "markdown",
   "id": "a51af531",
   "metadata": {
    "pycharm": {
     "name": "#%% md\n"
    }
   },
   "source": [
    "\n",
    "<h2>Load in self spoken sample and use model make prediction</h2>"
   ]
  },
  {
   "cell_type": "code",
   "execution_count": 3,
   "id": "254bb616",
   "metadata": {
    "pycharm": {
     "name": "#%%\n"
    }
   },
   "outputs": [
    {
     "name": "stderr",
     "output_type": "stream",
     "text": [
      "2022-05-13 19:38:44.659334: I tensorflow/stream_executor/cuda/cuda_dnn.cc:368] Loaded cuDNN version 8400\n",
      "/tmp/ipykernel_1180037/4015509808.py:8: FutureWarning: Using a non-tuple sequence for multidimensional indexing is deprecated; use `arr[tuple(seq)]` instead of `arr[seq]`. In the future this will be interpreted as an array index, `arr[np.array(seq)]`, which will result either in an error or a different result.\n",
      "  plt.title(f\"Predictions {commands[label]}\")\n"
     ]
    },
    {
     "data": {
      "image/png": "[encoded data removed]",
      "text/plain": [
       "<Figure size 432x288 with 1 Axes>"
      ]
     },
     "metadata": {
      "needs_background": "light"
     },
     "output_type": "display_data"
    },
    {
     "data": {
      "text/html": [
       "\n",
       "                <audio  controls=\"controls\" >\n",
       "                    <source src=\"data:audio/x-wav;base64,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\" type=\"audio/x-wav\" />\n",
       "                    Your browser does not support the audio element.\n",
       "                </audio>\n",
       "              "
      ],
      "text/plain": [
       "<IPython.lib.display.Audio object>"
      ]
     },
     "execution_count": 3,
     "metadata": {},
     "output_type": "execute_result"
    }
   ],
   "source": [
    "sample_file = '../custom_data/commands/no/no_Joey.wav'\n",
    "\n",
    "sample_ds = preprocess_dataset([str(sample_file)], commands)\n",
    "\n",
    "for spectrogram, label in sample_ds.batch(1):\n",
    "    prediction = trained_model(spectrogram)\n",
    "    plt.bar(commands, tf.nn.softmax(prediction[0]))\n",
    "    plt.title(f\"Predictions {commands[label]}\")\n",
    "    plt.show()\n",
    "\n",
    "Audio(sample_file, rate=16000)"
   ]
  }
 ],
 "metadata": {
  "kernelspec": {
   "display_name": "Python 3 (ipykernel)",
   "language": "python",
   "name": "python3"
  },
  "language_info": {
   "codemirror_mode": {
    "name": "ipython",
    "version": 3
   },
   "file_extension": ".py",
   "mimetype": "text/x-python",
   "name": "python",
   "nbconvert_exporter": "python",
   "pygments_lexer": "ipython3",
   "version": "3.9.10"
  }
 },
 "nbformat": 4,
 "nbformat_minor": 5
}
